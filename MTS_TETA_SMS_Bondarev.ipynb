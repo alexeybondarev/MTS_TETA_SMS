{
  "nbformat": 4,
  "nbformat_minor": 0,
  "metadata": {
    "colab": {
      "name": "MTS_TETA_SMS_Bondarev.ipynb",
      "provenance": [],
      "authorship_tag": "ABX9TyNA3AGIUJ4dnzpcS3V1wkMI",
      "include_colab_link": true
    },
    "kernelspec": {
      "name": "python3",
      "display_name": "Python 3"
    },
    "language_info": {
      "name": "python"
    }
  },
  "cells": [
    {
      "cell_type": "markdown",
      "metadata": {
        "id": "view-in-github",
        "colab_type": "text"
      },
      "source": [
        "<a href=\"https://colab.research.google.com/github/alexeybondarev/MTS_TETA_SMS/blob/main/MTS_TETA_SMS_Bondarev.ipynb\" target=\"_parent\"><img src=\"https://colab.research.google.com/assets/colab-badge.svg\" alt=\"Open In Colab\"/></a>"
      ]
    },
    {
      "cell_type": "markdown",
      "metadata": {
        "id": "aJWS-vnI-a5b"
      },
      "source": [
        "# Задача классификации спам сообщений в СМС, постановка задачи"
      ]
    },
    {
      "cell_type": "markdown",
      "metadata": {
        "id": "KAF-2x1v-pMf"
      },
      "source": [
        "С широким проникновением мобильного интернета и мессенджеров, операторы сотовой связи начали быстро терять выручку от одного из своих самых маржинальных каналов — сервиса SMS. Все операторы достаточно быстро перестроили свою тарифную политику и теперь получают доход от данного канала не напрямую, а в рамках общей подписки на пакетный тариф (300 минут звонков и 300 SMS, к примеру). В тоже время, появился и до сих пор широко распространен канал выручки для оператора от таргетированной SMS рекламы и разных сервисов, использующих SMS в качестве инструмента аутентификации пользователей или транзакций. К сожалению, в официальных финансовых отчетах не приводится какую долю выручки приносит данный канал, но если предположить, что он составляет даже 0,1%, то в денежном выражении это рынок на миллиард рублей в год. \n",
        "\n",
        "В связи с этим для оператора важно контролировать данный канал, так чтобы он был привлекателен для корпоративных клиентов и по-прежнему востребован у пользователей. \n",
        "Одним из показателей качества канала для пользователя является отсутствие спама, т. е. заведомо не релевантных и раздражающих сообщений. Проблема спама общая для всех электронных каналов коммуникаций и давно известная. Для канала SMS она характеризуется тем, что обработка спама может и должна проходить на стороне оператора.\n",
        "\n",
        "В связи с этим бизнес задача может быть сформулирована следующих образом:\n",
        "\n",
        "*   наличие автоматического сервиса блокировки SMS спама на стороне оператора, к которому принадлежит абонент.\n",
        "*   сервис должен работать с связке с SMS шлюзом оператора и не вносить существенных временных задержек (это может быть критично для финансовых транзакций), а также не требовать большого количества оборудования\n",
        "*   качество сервиса должно быть высоким, особенно низким должны быть ошибки первого рода, но и качество фильтрации должно быть высоким, в идеале стремящимся к 100% \n",
        "\n",
        "С учетом объема рынка, который можно очень грубо оценить в миллиард рублей, при 4-х операторах связи в России, наличие такого сервиса у оператора может быть высоким конкурентным преимуществом. \n",
        "Дополнительные 10% рынка, полученные у конкурентов, это дополнительные 100 млн рублей годовой выручки. "
      ]
    },
    {
      "cell_type": "markdown",
      "metadata": {
        "id": "795wo6Ke-ku3"
      },
      "source": [
        "# Получение данных и предобработка"
      ]
    },
    {
      "cell_type": "code",
      "metadata": {
        "colab": {
          "base_uri": "https://localhost:8080/"
        },
        "id": "olCavvJ9ox-l",
        "outputId": "8cf92b38-4a65-4379-8096-30aae05201ba"
      },
      "source": [
        "from google.colab import drive\n",
        "drive.mount('/content/gdrive/')"
      ],
      "execution_count": 2,
      "outputs": [
        {
          "output_type": "stream",
          "text": [
            "Drive already mounted at /content/gdrive/; to attempt to forcibly remount, call drive.mount(\"/content/gdrive/\", force_remount=True).\n"
          ],
          "name": "stdout"
        }
      ]
    },
    {
      "cell_type": "code",
      "metadata": {
        "id": "2LG-Q7abpNXi"
      },
      "source": [
        "import pandas as pd\n",
        "import numpy as np\n",
        "import seaborn as sns\n",
        "import matplotlib.pyplot as plt\n",
        "import warnings\n",
        "warnings.filterwarnings('ignore')\n",
        "import torch"
      ],
      "execution_count": 3,
      "outputs": []
    },
    {
      "cell_type": "code",
      "metadata": {
        "colab": {
          "base_uri": "https://localhost:8080/",
          "height": 206
        },
        "id": "qbPN2C4tpEJq",
        "outputId": "802a6ad7-b28f-412e-cd8d-3df7279b47c2"
      },
      "source": [
        "data = pd.read_csv('/content/gdrive/My Drive/spam.csv', engine='python')\n",
        "data.head()"
      ],
      "execution_count": 62,
      "outputs": [
        {
          "output_type": "execute_result",
          "data": {
            "text/html": [
              "<div>\n",
              "<style scoped>\n",
              "    .dataframe tbody tr th:only-of-type {\n",
              "        vertical-align: middle;\n",
              "    }\n",
              "\n",
              "    .dataframe tbody tr th {\n",
              "        vertical-align: top;\n",
              "    }\n",
              "\n",
              "    .dataframe thead th {\n",
              "        text-align: right;\n",
              "    }\n",
              "</style>\n",
              "<table border=\"1\" class=\"dataframe\">\n",
              "  <thead>\n",
              "    <tr style=\"text-align: right;\">\n",
              "      <th></th>\n",
              "      <th>v1</th>\n",
              "      <th>v2</th>\n",
              "      <th>Unnamed: 2</th>\n",
              "      <th>Unnamed: 3</th>\n",
              "      <th>Unnamed: 4</th>\n",
              "    </tr>\n",
              "  </thead>\n",
              "  <tbody>\n",
              "    <tr>\n",
              "      <th>0</th>\n",
              "      <td>ham</td>\n",
              "      <td>Go until jurong point, crazy.. Available only ...</td>\n",
              "      <td>NaN</td>\n",
              "      <td>NaN</td>\n",
              "      <td>NaN</td>\n",
              "    </tr>\n",
              "    <tr>\n",
              "      <th>1</th>\n",
              "      <td>ham</td>\n",
              "      <td>Ok lar... Joking wif u oni...</td>\n",
              "      <td>NaN</td>\n",
              "      <td>NaN</td>\n",
              "      <td>NaN</td>\n",
              "    </tr>\n",
              "    <tr>\n",
              "      <th>2</th>\n",
              "      <td>spam</td>\n",
              "      <td>Free entry in 2 a wkly comp to win FA Cup fina...</td>\n",
              "      <td>NaN</td>\n",
              "      <td>NaN</td>\n",
              "      <td>NaN</td>\n",
              "    </tr>\n",
              "    <tr>\n",
              "      <th>3</th>\n",
              "      <td>ham</td>\n",
              "      <td>U dun say so early hor... U c already then say...</td>\n",
              "      <td>NaN</td>\n",
              "      <td>NaN</td>\n",
              "      <td>NaN</td>\n",
              "    </tr>\n",
              "    <tr>\n",
              "      <th>4</th>\n",
              "      <td>ham</td>\n",
              "      <td>Nah I don't think he goes to usf, he lives aro...</td>\n",
              "      <td>NaN</td>\n",
              "      <td>NaN</td>\n",
              "      <td>NaN</td>\n",
              "    </tr>\n",
              "  </tbody>\n",
              "</table>\n",
              "</div>"
            ],
            "text/plain": [
              "     v1  ... Unnamed: 4\n",
              "0   ham  ...        NaN\n",
              "1   ham  ...        NaN\n",
              "2  spam  ...        NaN\n",
              "3   ham  ...        NaN\n",
              "4   ham  ...        NaN\n",
              "\n",
              "[5 rows x 5 columns]"
            ]
          },
          "metadata": {
            "tags": []
          },
          "execution_count": 62
        }
      ]
    },
    {
      "cell_type": "code",
      "metadata": {
        "colab": {
          "base_uri": "https://localhost:8080/"
        },
        "id": "9qyaoatZpMM7",
        "outputId": "cc7b0842-2579-4f2d-d00e-94615b0184c2"
      },
      "source": [
        "data.info()"
      ],
      "execution_count": 5,
      "outputs": [
        {
          "output_type": "stream",
          "text": [
            "<class 'pandas.core.frame.DataFrame'>\n",
            "RangeIndex: 5572 entries, 0 to 5571\n",
            "Data columns (total 5 columns):\n",
            " #   Column      Non-Null Count  Dtype \n",
            "---  ------      --------------  ----- \n",
            " 0   v1          5572 non-null   object\n",
            " 1   v2          5572 non-null   object\n",
            " 2   Unnamed: 2  50 non-null     object\n",
            " 3   Unnamed: 3  12 non-null     object\n",
            " 4   Unnamed: 4  6 non-null      object\n",
            "dtypes: object(5)\n",
            "memory usage: 217.8+ KB\n"
          ],
          "name": "stdout"
        }
      ]
    },
    {
      "cell_type": "code",
      "metadata": {
        "colab": {
          "base_uri": "https://localhost:8080/",
          "height": 206
        },
        "id": "_Mr52r0QqQsb",
        "outputId": "7a1355fb-1ba6-4bf7-9de1-b7bd34c26994"
      },
      "source": [
        "data.dropna(axis=1, inplace=True)\n",
        "data.head()"
      ],
      "execution_count": 63,
      "outputs": [
        {
          "output_type": "execute_result",
          "data": {
            "text/html": [
              "<div>\n",
              "<style scoped>\n",
              "    .dataframe tbody tr th:only-of-type {\n",
              "        vertical-align: middle;\n",
              "    }\n",
              "\n",
              "    .dataframe tbody tr th {\n",
              "        vertical-align: top;\n",
              "    }\n",
              "\n",
              "    .dataframe thead th {\n",
              "        text-align: right;\n",
              "    }\n",
              "</style>\n",
              "<table border=\"1\" class=\"dataframe\">\n",
              "  <thead>\n",
              "    <tr style=\"text-align: right;\">\n",
              "      <th></th>\n",
              "      <th>v1</th>\n",
              "      <th>v2</th>\n",
              "    </tr>\n",
              "  </thead>\n",
              "  <tbody>\n",
              "    <tr>\n",
              "      <th>0</th>\n",
              "      <td>ham</td>\n",
              "      <td>Go until jurong point, crazy.. Available only ...</td>\n",
              "    </tr>\n",
              "    <tr>\n",
              "      <th>1</th>\n",
              "      <td>ham</td>\n",
              "      <td>Ok lar... Joking wif u oni...</td>\n",
              "    </tr>\n",
              "    <tr>\n",
              "      <th>2</th>\n",
              "      <td>spam</td>\n",
              "      <td>Free entry in 2 a wkly comp to win FA Cup fina...</td>\n",
              "    </tr>\n",
              "    <tr>\n",
              "      <th>3</th>\n",
              "      <td>ham</td>\n",
              "      <td>U dun say so early hor... U c already then say...</td>\n",
              "    </tr>\n",
              "    <tr>\n",
              "      <th>4</th>\n",
              "      <td>ham</td>\n",
              "      <td>Nah I don't think he goes to usf, he lives aro...</td>\n",
              "    </tr>\n",
              "  </tbody>\n",
              "</table>\n",
              "</div>"
            ],
            "text/plain": [
              "     v1                                                 v2\n",
              "0   ham  Go until jurong point, crazy.. Available only ...\n",
              "1   ham                      Ok lar... Joking wif u oni...\n",
              "2  spam  Free entry in 2 a wkly comp to win FA Cup fina...\n",
              "3   ham  U dun say so early hor... U c already then say...\n",
              "4   ham  Nah I don't think he goes to usf, he lives aro..."
            ]
          },
          "metadata": {
            "tags": []
          },
          "execution_count": 63
        }
      ]
    },
    {
      "cell_type": "code",
      "metadata": {
        "colab": {
          "base_uri": "https://localhost:8080/",
          "height": 206
        },
        "id": "zPwj0lMWqt2d",
        "outputId": "fac0acd4-757e-4dbc-f9f5-1f5465091ca8"
      },
      "source": [
        "data.rename(columns={\"v1\":\"label\", \"v2\":\"text\"}, inplace=True)\n",
        "data.head()"
      ],
      "execution_count": 64,
      "outputs": [
        {
          "output_type": "execute_result",
          "data": {
            "text/html": [
              "<div>\n",
              "<style scoped>\n",
              "    .dataframe tbody tr th:only-of-type {\n",
              "        vertical-align: middle;\n",
              "    }\n",
              "\n",
              "    .dataframe tbody tr th {\n",
              "        vertical-align: top;\n",
              "    }\n",
              "\n",
              "    .dataframe thead th {\n",
              "        text-align: right;\n",
              "    }\n",
              "</style>\n",
              "<table border=\"1\" class=\"dataframe\">\n",
              "  <thead>\n",
              "    <tr style=\"text-align: right;\">\n",
              "      <th></th>\n",
              "      <th>label</th>\n",
              "      <th>text</th>\n",
              "    </tr>\n",
              "  </thead>\n",
              "  <tbody>\n",
              "    <tr>\n",
              "      <th>0</th>\n",
              "      <td>ham</td>\n",
              "      <td>Go until jurong point, crazy.. Available only ...</td>\n",
              "    </tr>\n",
              "    <tr>\n",
              "      <th>1</th>\n",
              "      <td>ham</td>\n",
              "      <td>Ok lar... Joking wif u oni...</td>\n",
              "    </tr>\n",
              "    <tr>\n",
              "      <th>2</th>\n",
              "      <td>spam</td>\n",
              "      <td>Free entry in 2 a wkly comp to win FA Cup fina...</td>\n",
              "    </tr>\n",
              "    <tr>\n",
              "      <th>3</th>\n",
              "      <td>ham</td>\n",
              "      <td>U dun say so early hor... U c already then say...</td>\n",
              "    </tr>\n",
              "    <tr>\n",
              "      <th>4</th>\n",
              "      <td>ham</td>\n",
              "      <td>Nah I don't think he goes to usf, he lives aro...</td>\n",
              "    </tr>\n",
              "  </tbody>\n",
              "</table>\n",
              "</div>"
            ],
            "text/plain": [
              "  label                                               text\n",
              "0   ham  Go until jurong point, crazy.. Available only ...\n",
              "1   ham                      Ok lar... Joking wif u oni...\n",
              "2  spam  Free entry in 2 a wkly comp to win FA Cup fina...\n",
              "3   ham  U dun say so early hor... U c already then say...\n",
              "4   ham  Nah I don't think he goes to usf, he lives aro..."
            ]
          },
          "metadata": {
            "tags": []
          },
          "execution_count": 64
        }
      ]
    },
    {
      "cell_type": "code",
      "metadata": {
        "colab": {
          "base_uri": "https://localhost:8080/",
          "height": 206
        },
        "id": "SkIBdEeQsN-_",
        "outputId": "eb0cb05b-70a2-4092-c49b-fcdd5d743af1"
      },
      "source": [
        "data.label[data.label == 'ham'] = 0\n",
        "data.label[data.label == 'spam'] = 1\n",
        "data.head()"
      ],
      "execution_count": 65,
      "outputs": [
        {
          "output_type": "execute_result",
          "data": {
            "text/html": [
              "<div>\n",
              "<style scoped>\n",
              "    .dataframe tbody tr th:only-of-type {\n",
              "        vertical-align: middle;\n",
              "    }\n",
              "\n",
              "    .dataframe tbody tr th {\n",
              "        vertical-align: top;\n",
              "    }\n",
              "\n",
              "    .dataframe thead th {\n",
              "        text-align: right;\n",
              "    }\n",
              "</style>\n",
              "<table border=\"1\" class=\"dataframe\">\n",
              "  <thead>\n",
              "    <tr style=\"text-align: right;\">\n",
              "      <th></th>\n",
              "      <th>label</th>\n",
              "      <th>text</th>\n",
              "    </tr>\n",
              "  </thead>\n",
              "  <tbody>\n",
              "    <tr>\n",
              "      <th>0</th>\n",
              "      <td>0</td>\n",
              "      <td>Go until jurong point, crazy.. Available only ...</td>\n",
              "    </tr>\n",
              "    <tr>\n",
              "      <th>1</th>\n",
              "      <td>0</td>\n",
              "      <td>Ok lar... Joking wif u oni...</td>\n",
              "    </tr>\n",
              "    <tr>\n",
              "      <th>2</th>\n",
              "      <td>1</td>\n",
              "      <td>Free entry in 2 a wkly comp to win FA Cup fina...</td>\n",
              "    </tr>\n",
              "    <tr>\n",
              "      <th>3</th>\n",
              "      <td>0</td>\n",
              "      <td>U dun say so early hor... U c already then say...</td>\n",
              "    </tr>\n",
              "    <tr>\n",
              "      <th>4</th>\n",
              "      <td>0</td>\n",
              "      <td>Nah I don't think he goes to usf, he lives aro...</td>\n",
              "    </tr>\n",
              "  </tbody>\n",
              "</table>\n",
              "</div>"
            ],
            "text/plain": [
              "  label                                               text\n",
              "0     0  Go until jurong point, crazy.. Available only ...\n",
              "1     0                      Ok lar... Joking wif u oni...\n",
              "2     1  Free entry in 2 a wkly comp to win FA Cup fina...\n",
              "3     0  U dun say so early hor... U c already then say...\n",
              "4     0  Nah I don't think he goes to usf, he lives aro..."
            ]
          },
          "metadata": {
            "tags": []
          },
          "execution_count": 65
        }
      ]
    },
    {
      "cell_type": "markdown",
      "metadata": {
        "id": "yCC5RknHq-d1"
      },
      "source": [
        "# Использование готовой модели из библиотеки Huggingface\n",
        "\n",
        "\n"
      ]
    },
    {
      "cell_type": "markdown",
      "metadata": {
        "id": "BwBf7I8b4qeI"
      },
      "source": [
        "В данной задаче исходными данными являются тексты, в связи с этим естественной гипотезой является использование SOTA подходов для работы с текстами, построенными на архитектуре трансформеров. Ожидается, что данные модели должны показать лучшее качество. \n",
        "В качестве первого эксперимента воспользуемся готовой моделью из библиотеки Huggingface - https://huggingface.co/mrm8488/bert-tiny-finetuned-sms-spam-detection\n",
        "Данная модель построена поверх Bern-tiny и натренирована на задаче детекции спам в СМС сообщениях"
      ]
    },
    {
      "cell_type": "code",
      "metadata": {
        "colab": {
          "base_uri": "https://localhost:8080/"
        },
        "id": "rf61kkO_qxNl",
        "outputId": "7e6ca015-e83c-4e77-c30a-81ff6acafb9f"
      },
      "source": [
        "! pip install datasets transformers[sentencepiece]"
      ],
      "execution_count": 9,
      "outputs": [
        {
          "output_type": "stream",
          "text": [
            "Requirement already satisfied: datasets in /usr/local/lib/python3.7/dist-packages (1.11.0)\n",
            "Requirement already satisfied: transformers[sentencepiece] in /usr/local/lib/python3.7/dist-packages (4.9.2)\n",
            "Requirement already satisfied: multiprocess in /usr/local/lib/python3.7/dist-packages (from datasets) (0.70.12.2)\n",
            "Requirement already satisfied: fsspec>=2021.05.0 in /usr/local/lib/python3.7/dist-packages (from datasets) (2021.7.0)\n",
            "Requirement already satisfied: tqdm>=4.42 in /usr/local/lib/python3.7/dist-packages (from datasets) (4.62.0)\n",
            "Requirement already satisfied: packaging in /usr/local/lib/python3.7/dist-packages (from datasets) (21.0)\n",
            "Requirement already satisfied: requests>=2.19.0 in /usr/local/lib/python3.7/dist-packages (from datasets) (2.23.0)\n",
            "Requirement already satisfied: numpy>=1.17 in /usr/local/lib/python3.7/dist-packages (from datasets) (1.19.5)\n",
            "Requirement already satisfied: dill in /usr/local/lib/python3.7/dist-packages (from datasets) (0.3.4)\n",
            "Requirement already satisfied: pandas in /usr/local/lib/python3.7/dist-packages (from datasets) (1.1.5)\n",
            "Requirement already satisfied: huggingface-hub<0.1.0 in /usr/local/lib/python3.7/dist-packages (from datasets) (0.0.12)\n",
            "Requirement already satisfied: pyarrow!=4.0.0,>=1.0.0 in /usr/local/lib/python3.7/dist-packages (from datasets) (3.0.0)\n",
            "Requirement already satisfied: importlib-metadata in /usr/local/lib/python3.7/dist-packages (from datasets) (4.6.1)\n",
            "Requirement already satisfied: xxhash in /usr/local/lib/python3.7/dist-packages (from datasets) (2.0.2)\n",
            "Requirement already satisfied: filelock in /usr/local/lib/python3.7/dist-packages (from huggingface-hub<0.1.0->datasets) (3.0.12)\n",
            "Requirement already satisfied: typing-extensions in /usr/local/lib/python3.7/dist-packages (from huggingface-hub<0.1.0->datasets) (3.7.4.3)\n",
            "Requirement already satisfied: pyparsing>=2.0.2 in /usr/local/lib/python3.7/dist-packages (from packaging->datasets) (2.4.7)\n",
            "Requirement already satisfied: urllib3!=1.25.0,!=1.25.1,<1.26,>=1.21.1 in /usr/local/lib/python3.7/dist-packages (from requests>=2.19.0->datasets) (1.24.3)\n",
            "Requirement already satisfied: chardet<4,>=3.0.2 in /usr/local/lib/python3.7/dist-packages (from requests>=2.19.0->datasets) (3.0.4)\n",
            "Requirement already satisfied: idna<3,>=2.5 in /usr/local/lib/python3.7/dist-packages (from requests>=2.19.0->datasets) (2.10)\n",
            "Requirement already satisfied: certifi>=2017.4.17 in /usr/local/lib/python3.7/dist-packages (from requests>=2.19.0->datasets) (2021.5.30)\n",
            "Requirement already satisfied: zipp>=0.5 in /usr/local/lib/python3.7/dist-packages (from importlib-metadata->datasets) (3.5.0)\n",
            "Requirement already satisfied: python-dateutil>=2.7.3 in /usr/local/lib/python3.7/dist-packages (from pandas->datasets) (2.8.1)\n",
            "Requirement already satisfied: pytz>=2017.2 in /usr/local/lib/python3.7/dist-packages (from pandas->datasets) (2018.9)\n",
            "Requirement already satisfied: six>=1.5 in /usr/local/lib/python3.7/dist-packages (from python-dateutil>=2.7.3->pandas->datasets) (1.15.0)\n",
            "Requirement already satisfied: sacremoses in /usr/local/lib/python3.7/dist-packages (from transformers[sentencepiece]) (0.0.45)\n",
            "Requirement already satisfied: tokenizers<0.11,>=0.10.1 in /usr/local/lib/python3.7/dist-packages (from transformers[sentencepiece]) (0.10.3)\n",
            "Requirement already satisfied: pyyaml>=5.1 in /usr/local/lib/python3.7/dist-packages (from transformers[sentencepiece]) (5.4.1)\n",
            "Requirement already satisfied: regex!=2019.12.17 in /usr/local/lib/python3.7/dist-packages (from transformers[sentencepiece]) (2019.12.20)\n",
            "Requirement already satisfied: protobuf in /usr/local/lib/python3.7/dist-packages (from transformers[sentencepiece]) (3.17.3)\n",
            "Requirement already satisfied: sentencepiece==0.1.91 in /usr/local/lib/python3.7/dist-packages (from transformers[sentencepiece]) (0.1.91)\n",
            "Requirement already satisfied: joblib in /usr/local/lib/python3.7/dist-packages (from sacremoses->transformers[sentencepiece]) (1.0.1)\n",
            "Requirement already satisfied: click in /usr/local/lib/python3.7/dist-packages (from sacremoses->transformers[sentencepiece]) (7.1.2)\n"
          ],
          "name": "stdout"
        }
      ]
    },
    {
      "cell_type": "code",
      "metadata": {
        "id": "ciEZkeTKria7"
      },
      "source": [
        "from transformers import AutoTokenizer, AutoModelForSequenceClassification\n",
        "  \n",
        "tokenizer = AutoTokenizer.from_pretrained(\"mrm8488/bert-tiny-finetuned-sms-spam-detection\")\n",
        "\n",
        "model = AutoModelForSequenceClassification.from_pretrained(\"mrm8488/bert-tiny-finetuned-sms-spam-detection\")"
      ],
      "execution_count": 10,
      "outputs": []
    },
    {
      "cell_type": "code",
      "metadata": {
        "colab": {
          "base_uri": "https://localhost:8080/"
        },
        "id": "ymsI67P2rwjb",
        "outputId": "5914e2ca-ff90-4add-fc90-47c2d518da9f"
      },
      "source": [
        "model.config.id2label"
      ],
      "execution_count": 11,
      "outputs": [
        {
          "output_type": "execute_result",
          "data": {
            "text/plain": [
              "{0: 'LABEL_0', 1: 'LABEL_1'}"
            ]
          },
          "metadata": {
            "tags": []
          },
          "execution_count": 11
        }
      ]
    },
    {
      "cell_type": "code",
      "metadata": {
        "colab": {
          "base_uri": "https://localhost:8080/"
        },
        "id": "JH77041HxJhl",
        "outputId": "b6062061-aeae-44a1-858f-e4e98561d356"
      },
      "source": [
        "num_batches = 10\n",
        "raw_inputs = data.text.to_list()\n",
        "labels = data.label.to_list()\n",
        "\n",
        "batch_size = len(raw_inputs) // num_batches\n",
        "print('batch size = ', batch_size)\n",
        "\n",
        "total_predictions = []\n",
        "\n",
        "for i in range(num_batches):\n",
        "  batch = raw_inputs[i*batch_size: (i+1)*batch_size]\n",
        "  inputs = tokenizer(batch, padding=True, truncation=True, return_tensors=\"pt\") \n",
        "  outputs = model(**inputs)\n",
        "  predictions = torch.nn.functional.softmax(outputs.logits, dim=-1)\n",
        "  total_predictions.extend(np.argmax(predictions.detach().numpy(), axis = 1))\n",
        "\n",
        "batch = raw_inputs[10*batch_size: len(raw_inputs)]\n",
        "inputs = tokenizer(batch, padding=True, truncation=True, return_tensors=\"pt\") \n",
        "outputs = model(**inputs)\n",
        "predictions = torch.nn.functional.softmax(outputs.logits, dim=-1)\n",
        "total_predictions.extend(np.argmax(predictions.detach().numpy(), axis = 1))\n",
        "\n",
        "print(len(total_predictions))"
      ],
      "execution_count": 12,
      "outputs": [
        {
          "output_type": "stream",
          "text": [
            "Asking to truncate to max_length but no maximum length is provided and the model has no predefined maximum length. Default to no truncation.\n"
          ],
          "name": "stderr"
        },
        {
          "output_type": "stream",
          "text": [
            "batch size =  557\n",
            "5572\n"
          ],
          "name": "stdout"
        }
      ]
    },
    {
      "cell_type": "code",
      "metadata": {
        "id": "X565YALE2Jj2"
      },
      "source": [
        "from sklearn.metrics import precision_score, recall_score, f1_score, classification_report,accuracy_score\n",
        "import seaborn as sns"
      ],
      "execution_count": 13,
      "outputs": []
    },
    {
      "cell_type": "code",
      "metadata": {
        "id": "e5MRT2SR3hXa"
      },
      "source": [
        "from sklearn.metrics import confusion_matrix\n",
        "categories=['Ham', 'Spam']\n",
        "def seaborn_conf(y, ypred):\n",
        "    y_true = [\"Ham\", \"Spam\"]\n",
        "    y_pred = [\"Ham\", \"Spam\"]\n",
        "    cf = confusion_matrix(y, ypred)\n",
        "    df_cm = pd.DataFrame(cf, columns=np.unique(y_true), index = np.unique(y_true))\n",
        "    plt.figure(figsize=(8,6))\n",
        "    sns.heatmap(df_cm, annot=True, fmt='g')\n",
        "    plt.title('Confusion matrix')\n",
        "    plt.xlabel('Predicted value')\n",
        "    plt.ylabel('Real value')\n",
        "    plt.show()"
      ],
      "execution_count": 14,
      "outputs": []
    },
    {
      "cell_type": "code",
      "metadata": {
        "colab": {
          "base_uri": "https://localhost:8080/",
          "height": 421
        },
        "id": "oqNrYJFn3E9d",
        "outputId": "ee62e4c8-70fc-4a2d-cc96-18898b0e8a5c"
      },
      "source": [
        "print('Accuracy: {}'.format(accuracy_score(labels, total_predictions)))\n",
        "seaborn_conf(labels, total_predictions)"
      ],
      "execution_count": 15,
      "outputs": [
        {
          "output_type": "stream",
          "text": [
            "Accuracy: 0.9838478104809764\n"
          ],
          "name": "stdout"
        },
        {
          "output_type": "display_data",
          "data": {
            "image/png": "[encoded data removed]",
            "text/plain": [
              "<Figure size 576x432 with 2 Axes>"
            ]
          },
          "metadata": {
            "tags": [],
            "needs_background": "light"
          }
        }
      ]
    },
    {
      "cell_type": "code",
      "metadata": {
        "colab": {
          "base_uri": "https://localhost:8080/"
        },
        "id": "YDzHor0v57sJ",
        "outputId": "5069d0aa-ef55-40f7-ff2d-f41728094829"
      },
      "source": [
        "print(classification_report(labels, total_predictions))"
      ],
      "execution_count": 16,
      "outputs": [
        {
          "output_type": "stream",
          "text": [
            "              precision    recall  f1-score   support\n",
            "\n",
            "           0       0.99      1.00      0.99      4825\n",
            "           1       0.97      0.90      0.94       747\n",
            "\n",
            "    accuracy                           0.98      5572\n",
            "   macro avg       0.98      0.95      0.96      5572\n",
            "weighted avg       0.98      0.98      0.98      5572\n",
            "\n"
          ],
          "name": "stdout"
        }
      ]
    },
    {
      "cell_type": "markdown",
      "metadata": {
        "id": "KB4XClsd6-CS"
      },
      "source": [
        "Вывод по эксперименту.\n",
        "\n",
        "\n",
        "1.   Действительно модель показывает высокое качестве, accuracy 98% и precision 97% на спам сообщениях. Также отметим низкое количество ошибочно определенных не спам сообщений, хотя их наличие все равно повод задуматься об улучшении в данном направлении (мы не должны терять не спам сообщения)\n",
        "2.   Недостаток модели - её размер и требования по памяти. Инференс на всем датасете был невозможен из-за нехватки памяти, пришлось разбивать на батчи. В продуктовой среде это означает, что будут ограничения по количеству одновременно обрабатываемых сообщений или высокие требования к объему памяти на серверах\n",
        "3.   Есть основания предположить, что обучение данной конкретной модели происходило на том же датасете и мы имеем дело с переобучением, чтобы это проверить следует построить собственную модель с разделением на обучающую и тестовую выборки\n",
        "\n",
        "\n",
        "\n",
        "\n"
      ]
    },
    {
      "cell_type": "markdown",
      "metadata": {
        "id": "ywfiOt418yWy"
      },
      "source": [
        "# Построение собственной модели классификации с использованием Bert из Huggingface"
      ]
    },
    {
      "cell_type": "markdown",
      "metadata": {
        "id": "w95FATVY87VV"
      },
      "source": [
        "Учитывая успешные результаты первого эксперимента, следующая задача - показать, что аналогичную модель можно построить, используя только предобученную модель общего плана (Bert-like) с самостоятельной головой классификации."
      ]
    },
    {
      "cell_type": "code",
      "metadata": {
        "id": "O7CQd550AIPT"
      },
      "source": [
        "!pip install transformers"
      ],
      "execution_count": null,
      "outputs": []
    },
    {
      "cell_type": "code",
      "metadata": {
        "id": "mWvsGGBdAPJT"
      },
      "source": [
        "import transformers\n",
        "import string\n",
        "import re\n",
        "from sklearn.model_selection import train_test_split"
      ],
      "execution_count": 44,
      "outputs": []
    },
    {
      "cell_type": "code",
      "metadata": {
        "colab": {
          "base_uri": "https://localhost:8080/"
        },
        "id": "DE_TBUZuB4Cf",
        "outputId": "2bc2e7ed-3228-4410-8245-b32757539587"
      },
      "source": [
        "import nltk\n",
        "nltk.download('stopwords')\n",
        "nltk.download('punkt')"
      ],
      "execution_count": 29,
      "outputs": [
        {
          "output_type": "stream",
          "text": [
            "[nltk_data] Downloading package stopwords to /root/nltk_data...\n",
            "[nltk_data]   Package stopwords is already up-to-date!\n",
            "[nltk_data] Downloading package punkt to /root/nltk_data...\n",
            "[nltk_data]   Unzipping tokenizers/punkt.zip.\n"
          ],
          "name": "stdout"
        },
        {
          "output_type": "execute_result",
          "data": {
            "text/plain": [
              "True"
            ]
          },
          "metadata": {
            "tags": []
          },
          "execution_count": 29
        }
      ]
    },
    {
      "cell_type": "code",
      "metadata": {
        "colab": {
          "base_uri": "https://localhost:8080/"
        },
        "id": "9nY7MqjX6BHC",
        "outputId": "6669f3ca-a1d2-40fb-f437-1c43ef44f80b"
      },
      "source": [
        "# Loading pretrained model/tokenizer\n",
        "tokenizer = transformers.DistilBertTokenizer.from_pretrained(\"distilbert-base-uncased\")\n",
        "model = transformers.DistilBertModel.from_pretrained(\"distilbert-base-uncased\")"
      ],
      "execution_count": 72,
      "outputs": [
        {
          "output_type": "stream",
          "text": [
            "Some weights of the model checkpoint at distilbert-base-uncased were not used when initializing DistilBertModel: ['vocab_transform.weight', 'vocab_projector.weight', 'vocab_projector.bias', 'vocab_layer_norm.bias', 'vocab_transform.bias', 'vocab_layer_norm.weight']\n",
            "- This IS expected if you are initializing DistilBertModel from the checkpoint of a model trained on another task or with another architecture (e.g. initializing a BertForSequenceClassification model from a BertForPreTraining model).\n",
            "- This IS NOT expected if you are initializing DistilBertModel from the checkpoint of a model that you expect to be exactly identical (initializing a BertForSequenceClassification model from a BertForSequenceClassification model).\n"
          ],
          "name": "stderr"
        }
      ]
    },
    {
      "cell_type": "code",
      "metadata": {
        "id": "wio_2aBpBJPH"
      },
      "source": [
        "def clean_sentence(s):\n",
        "    \"\"\"Given a sentence remove its punctuation and stop words\"\"\"\n",
        "    \n",
        "    stop_words = set(stopwords.words('english'))\n",
        "    s = s.translate(str.maketrans('','',string.punctuation)) # remove punctuation\n",
        "    tokens = word_tokenize(s)\n",
        "    cleaned_s = [w for w in tokens if w not in stop_words] # removing stop-words\n",
        "    return \" \".join(cleaned_s[:20]) # using the first 10 tokens only\n",
        "\n",
        "data[\"text\"] = data[\"text\"].apply(clean_sentence)"
      ],
      "execution_count": 66,
      "outputs": []
    },
    {
      "cell_type": "code",
      "metadata": {
        "colab": {
          "base_uri": "https://localhost:8080/"
        },
        "id": "nnT0DL3UAYjw",
        "outputId": "f9da2d10-5554-496c-c8e5-1a7eb6570886"
      },
      "source": [
        "tokenized = data[\"text\"].apply(lambda x: tokenizer.encode(x, add_special_tokens=True))\n",
        "tokenized"
      ],
      "execution_count": 67,
      "outputs": [
        {
          "output_type": "execute_result",
          "data": {
            "text/plain": [
              "0       [101, 2175, 18414, 17583, 2391, 4689, 2800, 11...\n",
              "1       [101, 7929, 2474, 2099, 16644, 15536, 2546, 10...\n",
              "2       [101, 2489, 4443, 1016, 1059, 2243, 2135, 4012...\n",
              "3       [101, 1057, 24654, 2360, 2220, 7570, 2099, 105...\n",
              "4       [101, 20976, 1045, 2123, 2102, 2228, 3632, 214...\n",
              "                              ...                        \n",
              "5567    [101, 2023, 3416, 2051, 2699, 1016, 3967, 1057...\n",
              "5568    [101, 2097, 1038, 2183, 9686, 24759, 5162, 320...\n",
              "5569          [101, 12063, 6888, 2061, 19092, 15690, 102]\n",
              "5570    [101, 1996, 3124, 7743, 2075, 1045, 6051, 2066...\n",
              "5571           [101, 20996, 10258, 2049, 2995, 2171, 102]\n",
              "Name: text, Length: 5572, dtype: object"
            ]
          },
          "metadata": {
            "tags": []
          },
          "execution_count": 67
        }
      ]
    },
    {
      "cell_type": "code",
      "metadata": {
        "colab": {
          "base_uri": "https://localhost:8080/"
        },
        "id": "_O_8DcjUAbWW",
        "outputId": "347e4e17-80d3-409c-d173-c1030d1cf582"
      },
      "source": [
        "max_len = tokenized.apply(len).max() # get the length of the longest tokenized sentence\n",
        "\n",
        "padded = np.array([i + [0]*(max_len-len(i)) for i in tokenized.values]) # padd the rest of the sentence with zeros if the sentence is smaller than the longest sentence\n",
        "padded"
      ],
      "execution_count": 68,
      "outputs": [
        {
          "output_type": "execute_result",
          "data": {
            "text/plain": [
              "array([[  101,  2175, 18414, ...,     0,     0,     0],\n",
              "       [  101,  7929,  2474, ...,     0,     0,     0],\n",
              "       [  101,  2489,  4443, ...,     0,     0,     0],\n",
              "       ...,\n",
              "       [  101, 12063,  6888, ...,     0,     0,     0],\n",
              "       [  101,  1996,  3124, ...,     0,     0,     0],\n",
              "       [  101, 20996, 10258, ...,     0,     0,     0]])"
            ]
          },
          "metadata": {
            "tags": []
          },
          "execution_count": 68
        }
      ]
    },
    {
      "cell_type": "code",
      "metadata": {
        "colab": {
          "base_uri": "https://localhost:8080/"
        },
        "id": "4y-BXtKlAj8S",
        "outputId": "259ef739-3567-4c72-be30-b5f1a044ea81"
      },
      "source": [
        "attention_mask = np.where(padded != 0, 1, 0)\n",
        "attention_mask"
      ],
      "execution_count": 69,
      "outputs": [
        {
          "output_type": "execute_result",
          "data": {
            "text/plain": [
              "array([[1, 1, 1, ..., 0, 0, 0],\n",
              "       [1, 1, 1, ..., 0, 0, 0],\n",
              "       [1, 1, 1, ..., 0, 0, 0],\n",
              "       ...,\n",
              "       [1, 1, 1, ..., 0, 0, 0],\n",
              "       [1, 1, 1, ..., 0, 0, 0],\n",
              "       [1, 1, 1, ..., 0, 0, 0]])"
            ]
          },
          "metadata": {
            "tags": []
          },
          "execution_count": 69
        }
      ]
    },
    {
      "cell_type": "code",
      "metadata": {
        "id": "FNmbtMS2AlIM"
      },
      "source": [
        "input_ids = torch.tensor(padded)  # create a torch tensor for the padded sentences\n",
        "attention_mask = torch.tensor(attention_mask) # create a torch tensor for the attention matrix\n",
        "\n",
        "with torch.no_grad():\n",
        "    encoder_hidden_state = model(input_ids, attention_mask=attention_mask)"
      ],
      "execution_count": 73,
      "outputs": []
    },
    {
      "cell_type": "code",
      "metadata": {
        "id": "6vFu7qFZCm_2"
      },
      "source": [
        "X = encoder_hidden_state[0][:,0,:].numpy()"
      ],
      "execution_count": 74,
      "outputs": []
    },
    {
      "cell_type": "code",
      "metadata": {
        "id": "t0OodEPmDWSt"
      },
      "source": [
        "data[\"num_words\"] = data[\"text\"].apply(lambda s: len(re.findall(r'\\w+', s))) # Count the number of words in the message\n",
        "data[\"message_len\"] = data[\"text\"].apply(len) # get the length of the text message"
      ],
      "execution_count": 75,
      "outputs": []
    },
    {
      "cell_type": "code",
      "metadata": {
        "colab": {
          "base_uri": "https://localhost:8080/",
          "height": 112
        },
        "id": "0DVYCVQRDa-_",
        "outputId": "a18f3216-8b6c-460b-9a50-9782fd8a6a28"
      },
      "source": [
        "data.head(2)"
      ],
      "execution_count": 76,
      "outputs": [
        {
          "output_type": "execute_result",
          "data": {
            "text/html": [
              "<div>\n",
              "<style scoped>\n",
              "    .dataframe tbody tr th:only-of-type {\n",
              "        vertical-align: middle;\n",
              "    }\n",
              "\n",
              "    .dataframe tbody tr th {\n",
              "        vertical-align: top;\n",
              "    }\n",
              "\n",
              "    .dataframe thead th {\n",
              "        text-align: right;\n",
              "    }\n",
              "</style>\n",
              "<table border=\"1\" class=\"dataframe\">\n",
              "  <thead>\n",
              "    <tr style=\"text-align: right;\">\n",
              "      <th></th>\n",
              "      <th>label</th>\n",
              "      <th>text</th>\n",
              "      <th>num_words</th>\n",
              "      <th>message_len</th>\n",
              "    </tr>\n",
              "  </thead>\n",
              "  <tbody>\n",
              "    <tr>\n",
              "      <th>0</th>\n",
              "      <td>0</td>\n",
              "      <td>Go jurong point crazy Available bugis n great ...</td>\n",
              "      <td>16</td>\n",
              "      <td>82</td>\n",
              "    </tr>\n",
              "    <tr>\n",
              "      <th>1</th>\n",
              "      <td>0</td>\n",
              "      <td>Ok lar Joking wif u oni</td>\n",
              "      <td>6</td>\n",
              "      <td>23</td>\n",
              "    </tr>\n",
              "  </tbody>\n",
              "</table>\n",
              "</div>"
            ],
            "text/plain": [
              "  label  ... message_len\n",
              "0     0  ...          82\n",
              "1     0  ...          23\n",
              "\n",
              "[2 rows x 4 columns]"
            ]
          },
          "metadata": {
            "tags": []
          },
          "execution_count": 76
        }
      ]
    },
    {
      "cell_type": "code",
      "metadata": {
        "id": "sXxX2G2lECWM"
      },
      "source": [
        "X = encoder_hidden_state[0][:,0,:].numpy()\n",
        "X = np.hstack((X, data[[\"num_words\", \"message_len\"]].to_numpy().reshape(-1, 2))) # addind the the engineered features from the beginning\n",
        "y = data[\"label\"].astype('int')"
      ],
      "execution_count": 77,
      "outputs": []
    },
    {
      "cell_type": "code",
      "metadata": {
        "id": "zWK2-rfvEGmw"
      },
      "source": [
        "X_train, X_test, y_train, y_test = train_test_split(X, y, stratify=y, random_state=42)"
      ],
      "execution_count": 78,
      "outputs": []
    },
    {
      "cell_type": "code",
      "metadata": {
        "colab": {
          "base_uri": "https://localhost:8080/"
        },
        "id": "Xl6ydjWlEmJ5",
        "outputId": "b579fe29-c58d-4044-8b37-663c60a5ecab"
      },
      "source": [
        "y_train.value_counts()"
      ],
      "execution_count": 79,
      "outputs": [
        {
          "output_type": "execute_result",
          "data": {
            "text/plain": [
              "0    3619\n",
              "1     560\n",
              "Name: label, dtype: int64"
            ]
          },
          "metadata": {
            "tags": []
          },
          "execution_count": 79
        }
      ]
    },
    {
      "cell_type": "code",
      "metadata": {
        "id": "1ffav9rmEan6"
      },
      "source": [
        "from sklearn.ensemble import RandomForestClassifier"
      ],
      "execution_count": 80,
      "outputs": []
    },
    {
      "cell_type": "code",
      "metadata": {
        "id": "W5ibqJCMEUpn"
      },
      "source": [
        "rf_classifier = RandomForestClassifier(n_estimators=1500, class_weight=\"balanced\", n_jobs=-1, random_state=42) # Create a baseline random forest (no cross-validation, no hyperparameter tuning)\n",
        "model=RandomForestClassifier()\n",
        "model.fit(X_train,y_train)\n",
        "pred=model.predict(X_test)"
      ],
      "execution_count": 81,
      "outputs": []
    },
    {
      "cell_type": "code",
      "metadata": {
        "colab": {
          "base_uri": "https://localhost:8080/",
          "height": 681
        },
        "id": "yMoSfphqExMq",
        "outputId": "5f9ddf02-e24b-4135-d277-03abb674e00c"
      },
      "source": [
        "print('Accuracy score', accuracy_score(y_test, pred))\n",
        "seaborn_conf(y_test, pred)\n",
        "print('-----------------------------------------')\n",
        "print('Confusion Matrix')\n",
        "print(confusion_matrix(y_test, pred))\n",
        "print('-----------------------------------------')\n",
        "print('Classification Report')\n",
        "print(classification_report(y_test, pred))"
      ],
      "execution_count": 82,
      "outputs": [
        {
          "output_type": "stream",
          "text": [
            "Accuracy score 0.9784637473079684\n"
          ],
          "name": "stdout"
        },
        {
          "output_type": "display_data",
          "data": {
            "image/png": "[encoded data removed]",
            "text/plain": [
              "<Figure size 576x432 with 2 Axes>"
            ]
          },
          "metadata": {
            "tags": [],
            "needs_background": "light"
          }
        },
        {
          "output_type": "stream",
          "text": [
            "-----------------------------------------\n",
            "Confusion Matrix\n",
            "[[1203    3]\n",
            " [  27  160]]\n",
            "-----------------------------------------\n",
            "Classification Report\n",
            "              precision    recall  f1-score   support\n",
            "\n",
            "           0       0.98      1.00      0.99      1206\n",
            "           1       0.98      0.86      0.91       187\n",
            "\n",
            "    accuracy                           0.98      1393\n",
            "   macro avg       0.98      0.93      0.95      1393\n",
            "weighted avg       0.98      0.98      0.98      1393\n",
            "\n"
          ],
          "name": "stdout"
        }
      ]
    },
    {
      "cell_type": "markdown",
      "metadata": {
        "id": "dkLT674rJWe3"
      },
      "source": [
        "Выводы:\n",
        "\n",
        "\n",
        "1.   Доказано, что качество по метрике accuracy можно получить 98%\n",
        "2.   Значительно ниже получилась метрика recall для спам сообщений, однако в данном эксперименте не проводился подбор классификатора и его гиперпарметров. Скорее всего данную все метрики можно улучшить подбором классификатора и гиперпараметров\n",
        "3. Обучение модели для получения латентного представления - главное бутылочное горлышко данного подхода. Во-первых, обучение на данном небольшом датасете заняло достаточно длительное время (несколько минут), к тому же пришлось ограничить размер СМС в 20 слов, чтобы обойти ограничение по памяти\n",
        "\n"
      ]
    },
    {
      "cell_type": "code",
      "metadata": {
        "id": "yTL1eiadKa6K"
      },
      "source": [
        ""
      ],
      "execution_count": null,
      "outputs": []
    }
  ]
}